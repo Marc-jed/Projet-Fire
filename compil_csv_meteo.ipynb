{
 "cells": [
  {
   "cell_type": "code",
   "execution_count": null,
   "id": "5a92b056",
   "metadata": {},
   "outputs": [],
   "source": [
    "import pandas as pd\n",
    "import glob\n",
    "\n",
    "# Chemin vers les fichiers CSV\n",
    "path = 'chemin/vers/vos/fichiers'  # Remplacez par le chemin réel\n",
    "all_files = glob.glob(path + \"/*.csv\")\n",
    "\n",
    "# Liste pour stocker les DataFrames\n",
    "list_of_dfs = []\n",
    "\n",
    "# Lire chaque fichier CSV et ajouter son contenu à la liste\n",
    "for file in all_files:\n",
    "    df = pd.read_csv(file)\n",
    "    list_of_dfs.append(df)\n",
    "\n",
    "# Concaténer tous les DataFrames en un seul\n",
    "corse_df = pd.concat(list_of_dfs, ignore_index=True)\n",
    "\n",
    "# Écrire le DataFrame combiné dans un nouveau fichier CSV\n",
    "corse_df.to_csv(\"combined_output.csv\", index=False)"
   ]
  }
 ],
 "metadata": {
  "language_info": {
   "name": "python"
  }
 },
 "nbformat": 4,
 "nbformat_minor": 5
}
