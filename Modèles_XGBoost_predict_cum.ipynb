{
 "cells": [
  {
   "cell_type": "code",
   "execution_count": 65,
   "id": "1511896e",
   "metadata": {},
   "outputs": [],
   "source": [
    "import pandas as pd\n",
    "import seaborn as sns\n",
    "import plotly.express as px\n",
    "import matplotlib.pyplot as plt\n",
    "import plotly.io as pio\n",
    "import sklearn\n",
    "import warnings\n",
    "import sksurv.datasets\n",
    "import numpy as np\n",
    "import joblib\n",
    "import xgboost as xgb\n",
    "from xgboost import XGBRegressor\n",
    "from xgboost import XGBClassifier\n",
    "\n",
    "from itertools import product\n",
    "from tqdm import tqdm\n",
    "from xgbse import XGBSEKaplanNeighbors\n",
    "from xgbse.converters import convert_to_structured\n",
    "from sklearn.metrics import roc_auc_score\n",
    "from sklearn.preprocessing import StandardScaler\n",
    "from sklearn.impute import SimpleImputer\n",
    "from sklearn.pipeline import Pipeline\n",
    "from sklearn.model_selection import train_test_split\n",
    "from sklearn.ensemble import RandomForestClassifier\n",
    "from sklearn.metrics import classification_report, confusion_matrix, accuracy_score\n",
    "from sklearn.exceptions import UndefinedMetricWarning\n",
    "from sklearn import set_config\n",
    "from sklearn.model_selection import GridSearchCV, KFold\n",
    "from sklearn.pipeline import make_pipeline\n",
    "from sklearn.model_selection import ParameterGrid\n",
    "from sksurv.datasets import load_breast_cancer\n",
    "from sksurv.metrics import cumulative_dynamic_auc\n",
    "from sksurv.metrics import concordance_index_censored\n",
    "from sksurv.linear_model import CoxnetSurvivalAnalysis, CoxPHSurvivalAnalysis\n",
    "from sksurv.preprocessing import OneHotEncoder\n",
    "from sksurv.util import Surv\n",
    "\n",
    "\n",
    "from sksurv.ensemble import GradientBoostingSurvivalAnalysis\n",
    "\n",
    "\n",
    "warnings.filterwarnings(\"ignore\", category=UndefinedMetricWarning)\n",
    "set_config(display=\"text\")"
   ]
  },
  {
   "cell_type": "code",
   "execution_count": 77,
   "id": "f7ab9c9d",
   "metadata": {},
   "outputs": [],
   "source": [
    "df_corse=pd.read_csv('https://projet-incendie.s3.eu-west-3.amazonaws.com/dataset_modele_decompte.csv', sep=';')\n",
    "\n",
    "\n"
   ]
  },
  {
   "cell_type": "code",
   "execution_count": null,
   "id": "711b3788",
   "metadata": {},
   "outputs": [],
   "source": [
    "df_corse['Feu prévu'] = df_corse['Feu prévu'].astype(bool)\n",
    "df_variables = df_corse[[\n",
    "    'moyenne precipitations mois', 'moyenne temperature mois',\n",
    "    'moyenne evapotranspiration mois', 'moyenne vitesse vent année',\n",
    "    'moyenne vitesse vent mois', 'moyenne temperature année',\n",
    "    'RR', 'UM', 'ETPMON', 'TN', 'TX', 'évènement', 'décompte', 'Nombre de feu par an',\n",
    "    'Nombre de feu par mois', 'jours_sans_pluie', 'jours_TX_sup_30', \n",
    "    'compteur jours vers prochain feu', 'compteur feu carré', 'compteur feu log', 'ETPGRILLE_7j',\n",
    "    'moyenne precipitations année', 'moyenne evapotranspiration année'\n",
    "]]\n",
    "\n",
    "df_variables.rename(columns={\n",
    "    'RR': 'Précipitations en mm',\n",
    "    'TN': 'Température minimale sous abri',\n",
    "    'TX': 'Température maximale sous abri',\n",
    "    'UM': 'Humidité moyenne en %',\n",
    "    'ETPMON': 'Evapotranspiration en mm',\n",
    "       \n",
    "}, inplace=True)\n"
   ]
  },
  {
   "cell_type": "code",
   "execution_count": null,
   "id": "f43e23f8",
   "metadata": {},
   "outputs": [],
   "source": []
  },
  {
   "cell_type": "markdown",
   "id": "67a561d4",
   "metadata": {},
   "source": [
    "#### XGBoost Régression classique"
   ]
  },
  {
   "cell_type": "code",
   "execution_count": null,
   "id": "f0921810",
   "metadata": {},
   "outputs": [],
   "source": [
    "\n",
    "threshold = 0.5\n",
    "cols_to_keep = df_corse.columns[df_corse.isnull().mean() < threshold]\n",
    "df_clean = df_corse[cols_to_keep].copy()\n",
    "\n",
    "features = [\n",
    "    'moyenne precipitations mois', 'moyenne temperature mois',\n",
    "    'moyenne evapotranspiration mois', 'moyenne vitesse vent année',\n",
    "    'moyenne vitesse vent mois', 'moyenne temperature année',\n",
    "    'RR', 'UM', 'ETPMON', 'TN', 'TX', 'évènement', 'Nombre de feu par an',\n",
    "    'Nombre de feu par mois', 'jours_sans_pluie', 'jours_TX_sup_30', \n",
    "    'compteur jours vers prochain feu', 'compteur feu carré', 'compteur feu log', 'ETPGRILLE_7j',\n",
    "    'moyenne precipitations année', 'moyenne evapotranspiration année'\n",
    "]\n",
    "features = [f for f in features if f in df_clean.columns]\n",
    "\n",
    "\n",
    "df_clean = df_clean.dropna(subset=[\"décompte\"])\n"
   ]
  },
  {
   "cell_type": "markdown",
   "id": "923c89d4",
   "metadata": {},
   "source": [
    "#### XGBoost Regressor Survival Cox"
   ]
  },
  {
   "cell_type": "code",
   "execution_count": 93,
   "id": "d20da311",
   "metadata": {},
   "outputs": [
    {
     "name": "stdout",
     "output_type": "stream",
     "text": [
      "C-index test : 0.781\n"
     ]
    }
   ],
   "source": [
    "df_clean = df_clean.rename(columns={\"Feu prévu\": \"event\", \"décompte\": \"duration\"})\n",
    "\n",
    "y_structured = Surv.from_dataframe(\"event\", \"duration\", df_clean)\n",
    "\n",
    "X = df_clean[features]\n",
    "y = y_structured\n",
    "\n",
    "X_train, X_test, y_train, y_test = train_test_split(\n",
    "    X, y, test_size=0.3, random_state=42\n",
    ")\n",
    "\n",
    "event_train = y_train[\"event\"]\n",
    "duration_train = y_train[\"duration\"]\n",
    "\n",
    "event_test = y_test[\"event\"]\n",
    "duration_test = y_test[\"duration\"]\n",
    "\n",
    "pipeline = Pipeline([\n",
    "    (\"imputer\", SimpleImputer(strategy=\"median\")),\n",
    "    (\"xgb\", XGBRegressor(\n",
    "        objective=\"survival:cox\",\n",
    "        n_estimators=100,\n",
    "        learning_rate=0.1,\n",
    "        max_depth=5,\n",
    "        tree_method=\"hist\",\n",
    "        device=\"cuda\",       \n",
    "        random_state=42\n",
    "    ))\n",
    "])\n",
    "\n",
    "pipeline.fit(X_train, duration_train, xgb__sample_weight=event_train)\n",
    "\n",
    "risques = pipeline.predict(X_test)\n",
    "\n",
    "cindex = concordance_index_censored(event_test, duration_test, risques)[0]\n",
    "print(f\"C-index test : {cindex:.3f}\")\n"
   ]
  },
  {
   "cell_type": "markdown",
   "id": "13788270",
   "metadata": {},
   "source": [
    "#### GridSearch et XGBoost"
   ]
  },
  {
   "cell_type": "code",
   "execution_count": 94,
   "id": "f7688010",
   "metadata": {},
   "outputs": [],
   "source": [
    "# import pandas as pd\n",
    "# import numpy as np\n",
    "# import matplotlib.pyplot as plt\n",
    "# from sklearn.model_selection import train_test_split\n",
    "# from sklearn.pipeline import Pipeline\n",
    "# from sklearn.impute import SimpleImputer\n",
    "# from xgboost import XGBRegressor, DMatrix, train\n",
    "# from sksurv.util import Surv\n",
    "# from lifelines import CoxPHFitter\n",
    "\n",
    "# # 🔹 Préparation des données réelles\n",
    "# df_clean = df_clean.rename(columns={\"Feu prévu\": \"event\", \"décompte\": \"duration\"})\n",
    "# y_structured = Surv.from_dataframe(\"event\", \"duration\", df_clean)\n",
    "\n",
    "# X = df_clean[features]\n",
    "# y = y_structured\n",
    "\n",
    "# X_train, X_test, y_train, y_test = train_test_split(X, y, test_size=0.3, random_state=42)\n",
    "\n",
    "# event_train = y_train[\"event\"]\n",
    "# duration_train = y_train[\"duration\"]\n",
    "# event_test = y_test[\"event\"]\n",
    "# duration_test = y_test[\"duration\"]\n",
    "\n",
    "# # 🔹 Pipeline XGBoost survie\n",
    "# pipeline = Pipeline([\n",
    "#     (\"imputer\", SimpleImputer(strategy=\"median\")),\n",
    "#     (\"xgb\", XGBRegressor(\n",
    "#         objective=\"survival:cox\",\n",
    "#         n_estimators=100,\n",
    "#         learning_rate=0.1,\n",
    "#         max_depth=5,\n",
    "#         tree_method=\"hist\",\n",
    "#         device=\"cuda\",\n",
    "#         random_state=42\n",
    "#     ))\n",
    "# ])\n",
    "# pipeline.fit(X_train, duration_train, xgb__sample_weight=event_train)\n",
    "\n",
    "# # 🔹 Prédictions réelles (log(HR))\n",
    "# log_hr_test = pipeline.predict(X_test)\n",
    "\n",
    "# # 🔹 Jeu factice pour estimer H0(t)\n",
    "# df_fake = pd.DataFrame({\n",
    "#     \"duration\": duration_train,\n",
    "#     \"event\": event_train,\n",
    "#     \"const\": 1\n",
    "# })\n",
    "\n",
    "# dtrain_fake = DMatrix(df_fake[[\"const\"]])\n",
    "# dtrain_fake.set_float_info(\"label\", df_fake[\"duration\"])\n",
    "# dtrain_fake.set_float_info(\"label_lower_bound\", df_fake[\"duration\"])\n",
    "# dtrain_fake.set_float_info(\"label_upper_bound\", df_fake[\"duration\"])\n",
    "# dtrain_fake.set_float_info(\"weight\", df_fake[\"event\"])\n",
    "\n",
    "# params = {\n",
    "#     \"objective\": \"survival:cox\",\n",
    "#     \"eval_metric\": \"cox-nloglik\",\n",
    "#     \"learning_rate\": 0.1,\n",
    "#     \"max_depth\": 1,\n",
    "#     \"verbosity\": 0\n",
    "# }\n",
    "# bst_fake = train(params, dtrain_fake, num_boost_round=100)\n",
    "\n",
    "# # 🔹 Estimation de H0(t) avec CoxPHFitter\n",
    "# log_hr_fake = bst_fake.predict(dtrain_fake)  # valeurs constantes\n",
    "# df_risque = pd.DataFrame({\n",
    "#     \"duration\": duration_train,\n",
    "#     \"event\": event_train,\n",
    "#     \"log_risque\": log_hr_fake\n",
    "# })\n",
    "# cph = CoxPHFitter()\n",
    "# # log_risque contient quasiment la même valeur pour tous les individus (normal, car le modèle XGBoost a été entraîné sur un dataset factice avec une seule constante).\n",
    "# # Du coup, lifelines n’arrive pas à ajuster les coefficients, car il n’y a aucune information discriminante dans log_risque\n",
    "# df_risque[\"log_risque\"] += np.random.normal(0, 1e-4, size=len(df_risque))\n",
    "\n",
    "# jours = [30, 60, 90, 180]\n",
    "\n",
    "# # Extraire la fonction H0(t)\n",
    "# h0 = cph.baseline_cumulative_hazard_\n",
    "\n",
    "# # Interpolation de H0(t) pour les jours souhaités\n",
    "# h0_interp = h0.reindex(jours, method='nearest')  # ou interpolation linéaire si besoin\n",
    "# H0_t = h0_interp.values.flatten()  # shape (n_jours,)\n",
    "\n",
    "# # Reprend les prédictions de risque du vrai modèle\n",
    "# df_preds = pd.DataFrame({\"log_risque\": log_hr_test})\n",
    "# log_HR = df_preds[\"log_risque\"].values  # shape (n_individus,)\n",
    "\n",
    "# # Calcul de S(t|x) pour chaque temps t\n",
    "# S_t = np.exp(-np.outer(H0_t, np.exp(log_HR)))  # shape (n_jours, n_individus)\n",
    "\n",
    "# # Probabilité d'un feu à l'échéance t\n",
    "# probas_feu = 1 - S_t.T  # shape (n_individus, n_jours)\n",
    "\n",
    "# # Mettre en DataFrame avec colonnes explicites\n",
    "# probas_feu_df = pd.DataFrame(\n",
    "#     probas_feu,\n",
    "#     columns=[f\"proba_{j}j\" for j in jours]\n",
    "# )\n",
    "\n",
    "\n",
    "\n",
    "# print(df_risque.isna().sum())\n",
    "\n",
    "# cph.fit(df_risque, duration_col=\"duration\", event_col=\"event\", show_progress=False)\n",
    "\n",
    "# # 🔹 Calcul des fonctions de survie individuelles\n",
    "# df_preds = pd.DataFrame({\"log_risque\": log_hr_test})\n",
    "# surv_funcs = cph.predict_survival_function(df_preds)\n",
    "\n",
    "# # 🔹 Affichage des fonctions de survie (ex : 5 premiers individus)\n",
    "# plt.figure(figsize=(10, 6))\n",
    "# for i in range(5):\n",
    "#     surv_funcs.iloc[:, i].plot(label=f\"Individu {i}\")\n",
    "# plt.title(\"Fonction de survie individuelle (probabilité de ne pas avoir de feu)\")\n",
    "# plt.xlabel(\"Temps\")\n",
    "# plt.ylabel(\"S(t) = P(pas de feu à t)\")\n",
    "# plt.legend()\n",
    "# plt.grid(True)\n",
    "# plt.show()\n",
    "\n",
    "# # 🔹 Optionnel : calcul de la probabilité de feu\n",
    "# # Par exemple à t = 10 :\n",
    "# t_index = surv_funcs.index.get_indexer([10], method='nearest')[0]\n",
    "# proba_feu_t10 = 1 - surv_funcs.iloc[t_index]\n",
    "# print(\"\\nProbabilité de feu à t ≈ 10 pour chaque individu :\")\n",
    "# print(proba_feu_t10.head())\n"
   ]
  },
  {
   "cell_type": "code",
   "execution_count": 95,
   "id": "29f79460",
   "metadata": {},
   "outputs": [],
   "source": [
    "# import pandas as pd\n",
    "# import numpy as np\n",
    "# import matplotlib.pyplot as plt\n",
    "# from sklearn.model_selection import train_test_split\n",
    "# from sklearn.pipeline import Pipeline\n",
    "# from sklearn.impute import SimpleImputer\n",
    "# from xgboost import XGBRegressor, DMatrix, train\n",
    "# from sksurv.util import Surv\n",
    "# from lifelines import CoxPHFitter\n",
    "\n",
    "# # 🔹 Préparation des données réelles\n",
    "# df_clean = df_clean.rename(columns={\"Feu prévu\": \"event\", \"décompte\": \"duration\"})\n",
    "# y_structured = Surv.from_dataframe(\"event\", \"duration\", df_clean)\n",
    "\n",
    "# X = df_clean[features]\n",
    "# y = y_structured\n",
    "\n",
    "# X_train, X_test, y_train, y_test = train_test_split(X, y, test_size=0.3, random_state=42)\n",
    "\n",
    "# event_train = y_train[\"event\"]\n",
    "# duration_train = y_train[\"duration\"]\n",
    "# event_test = y_test[\"event\"]\n",
    "# duration_test = y_test[\"duration\"]\n",
    "\n",
    "# # 🔹 Pipeline XGBoost survie\n",
    "# pipeline = Pipeline([\n",
    "#     (\"imputer\", SimpleImputer(strategy=\"median\")),\n",
    "#     (\"xgb\", XGBRegressor(\n",
    "#         objective=\"survival:cox\",\n",
    "#         n_estimators=100,\n",
    "#         learning_rate=0.1,\n",
    "#         max_depth=5,\n",
    "#         tree_method=\"hist\",\n",
    "#         device=\"cuda\",\n",
    "#         random_state=42\n",
    "#     ))\n",
    "# ])\n",
    "# pipeline.fit(X_train, duration_train, xgb__sample_weight=event_train)\n",
    "\n",
    "# # 🔹 Prédictions réelles (log(HR))\n",
    "# log_hr_test = pipeline.predict(X_test)\n",
    "\n",
    "# # 🔹 Jeu factice pour estimer H0(t)\n",
    "# df_fake = pd.DataFrame({\n",
    "#     \"duration\": duration_train,\n",
    "#     \"event\": event_train,\n",
    "#     \"const\": 1\n",
    "# })\n",
    "\n",
    "# dtrain_fake = DMatrix(df_fake[[\"const\"]])\n",
    "# dtrain_fake.set_float_info(\"label\", df_fake[\"duration\"])\n",
    "# dtrain_fake.set_float_info(\"label_lower_bound\", df_fake[\"duration\"])\n",
    "# dtrain_fake.set_float_info(\"label_upper_bound\", df_fake[\"duration\"])\n",
    "# dtrain_fake.set_float_info(\"weight\", df_fake[\"event\"])\n",
    "\n",
    "# params = {\n",
    "#     \"objective\": \"survival:cox\",\n",
    "#     \"eval_metric\": \"cox-nloglik\",\n",
    "#     \"learning_rate\": 0.1,\n",
    "#     \"max_depth\": 1,\n",
    "#     \"verbosity\": 0\n",
    "# }\n",
    "# bst_fake = train(params, dtrain_fake, num_boost_round=100)\n",
    "\n",
    "# # 🔹 Estimation de H0(t) avec CoxPHFitter\n",
    "# log_hr_fake = bst_fake.predict(dtrain_fake)\n",
    "# df_risque = pd.DataFrame({\n",
    "#     \"duration\": duration_train,\n",
    "#     \"event\": event_train,\n",
    "#     \"log_risque\": log_hr_fake\n",
    "# })\n",
    "# df_risque[\"log_risque\"] += np.random.normal(0, 1e-4, size=len(df_risque))\n",
    "\n",
    "# # Ajustement du modèle Cox sur les données factices\n",
    "# cph = CoxPHFitter()\n",
    "# cph.fit(df_risque, duration_col=\"duration\", event_col=\"event\", show_progress=False)\n",
    "\n",
    "# # 🔹 Estimation de H0(t) aux temps donnés\n",
    "# jours = [30, 60, 90, 180]\n",
    "# h0 = cph.baseline_cumulative_hazard_\n",
    "# h0_interp = h0.reindex(jours, method='nearest')\n",
    "# H0_t = h0_interp.values.flatten()\n",
    "\n",
    "# # 🔹 Calcul des probabilités de feu\n",
    "# log_HR = log_hr_test\n",
    "# S_t = np.exp(-np.outer(H0_t, np.exp(log_HR)))\n",
    "# probas_feu = 1 - S_t.T\n",
    "\n",
    "# probas_feu_df = pd.DataFrame(\n",
    "#     probas_feu,\n",
    "#     columns=[f\"proba_{j}j\" for j in jours]\n",
    "# )\n",
    "# # # y_test est déjà une structure Surv\n",
    "# # c_index, concordant, discordant, tied_risk, tied_time = concordance_index_censored(\n",
    "# #     y_test[\"event\"], y_test[\"duration\"], -log_hr_test  # ⚠️ attention au signe : -log(HR)\n",
    "# # )\n",
    "\n",
    "# # print(f\"\\n🔎 Concordance Index (C-index) sur test : {c_index:.3f}\")\n",
    "\n",
    "# # # 🔹 Affichage des fonctions de survie\n",
    "# # surv_funcs = cph.predict_survival_function(pd.DataFrame({\"log_risque\": log_HR}))\n",
    "# # plt.figure(figsize=(10, 6))\n",
    "# # for i in range(5):\n",
    "# #     surv_funcs.iloc[:, i].plot(label=f\"Individu {i}\")\n",
    "# # plt.title(\"Fonction de survie individuelle (probabilité de ne pas avoir de feu)\")\n",
    "# # plt.xlabel(\"Temps\")\n",
    "# # plt.ylabel(\"S(t) = P(pas de feu à t)\")\n",
    "# # plt.legend()\n",
    "# # plt.grid(True)\n",
    "# # plt.show()\n",
    "\n",
    "# # # 🔹 Exemple : probabilité de feu à t ≈ 10 jours\n",
    "# # t_index = surv_funcs.index.get_indexer([10], method='nearest')[0]\n",
    "# # proba_feu_t10 = 1 - surv_funcs.iloc[t_index]\n",
    "# # print(\"\\nProbabilité de feu à t ≈ 10 pour chaque individu :\")\n",
    "# # print(proba_feu_t10.head())\n"
   ]
  },
  {
   "cell_type": "markdown",
   "id": "061028f1",
   "metadata": {},
   "source": [
    "### XGBOOST predict_cumulative_hazard_function"
   ]
  },
  {
   "cell_type": "code",
   "execution_count": 99,
   "id": "625a0632",
   "metadata": {},
   "outputs": [
    {
     "name": "stderr",
     "output_type": "stream",
     "text": [
      "c:\\Users\\m_bar\\Incendie\\.venv\\Lib\\site-packages\\lifelines\\utils\\__init__.py:1100: ConvergenceWarning:\n",
      "\n",
      "Column(s) ['log_risque'] have very low variance. This may harm convergence. 1) Are you using formula's? Did you mean to add '-1' to the end. 2) Try dropping this redundant column before fitting if convergence fails.\n",
      "\n",
      "\n",
      "c:\\Users\\m_bar\\Incendie\\.venv\\Lib\\site-packages\\pandas\\core\\arraylike.py:399: RuntimeWarning:\n",
      "\n",
      "overflow encountered in exp\n",
      "\n"
     ]
    },
    {
     "name": "stdout",
     "output_type": "stream",
     "text": [
      "\n",
      "C-index (test) : 0.219\n"
     ]
    }
   ],
   "source": [
    "\n",
    "# 🔹 Préparation des données réelles\n",
    "df_clean = df_clean.rename(columns={\"Feu prévu\": \"event\", \"décompte\": \"duration\"})\n",
    "y_structured = Surv.from_dataframe(\"event\", \"duration\", df_clean)\n",
    "\n",
    "X = df_clean[features]\n",
    "y = y_structured\n",
    "\n",
    "X_train, X_test, y_train, y_test = train_test_split(X, y, test_size=0.3, random_state=42)\n",
    "\n",
    "event_train = y_train[\"event\"]\n",
    "duration_train = y_train[\"duration\"]\n",
    "event_test = y_test[\"event\"]\n",
    "duration_test = y_test[\"duration\"]\n",
    "\n",
    "# 🔹 Pipeline XGBoost survie\n",
    "pipeline = Pipeline([\n",
    "    (\"imputer\", SimpleImputer(strategy=\"median\")),\n",
    "    (\"xgb\", XGBRegressor(\n",
    "        objective=\"survival:cox\",\n",
    "        n_estimators=100,\n",
    "        learning_rate=0.1,\n",
    "        max_depth=5,\n",
    "        tree_method=\"hist\",\n",
    "        device=\"cuda\",\n",
    "        random_state=42\n",
    "    ))\n",
    "])\n",
    "pipeline.fit(X_train, duration_train, xgb__sample_weight=event_train)\n",
    "\n",
    "# 🔹 Prédictions réelles (log(HR))\n",
    "log_hr_test = pipeline.predict(X_test)\n",
    "\n",
    "# 🔹 Jeu factice pour estimer le modèle de Cox\n",
    "df_fake = pd.DataFrame({\n",
    "    \"duration\": duration_train,\n",
    "    \"event\": event_train,\n",
    "    \"const\": 1\n",
    "})\n",
    "dtrain_fake = DMatrix(df_fake[[\"const\"]])\n",
    "dtrain_fake.set_float_info(\"label\", df_fake[\"duration\"])\n",
    "dtrain_fake.set_float_info(\"label_lower_bound\", df_fake[\"duration\"])\n",
    "dtrain_fake.set_float_info(\"label_upper_bound\", df_fake[\"duration\"])\n",
    "dtrain_fake.set_float_info(\"weight\", df_fake[\"event\"])\n",
    "\n",
    "params = {\n",
    "    \"objective\": \"survival:cox\",\n",
    "    \"eval_metric\": \"cox-nloglik\",\n",
    "    \"learning_rate\": 0.1,\n",
    "    \"max_depth\": 1,\n",
    "    \"verbosity\": 0\n",
    "}\n",
    "bst_fake = train(params, dtrain_fake, num_boost_round=100)\n",
    "\n",
    "log_hr_fake = bst_fake.predict(dtrain_fake)\n",
    "df_risque = pd.DataFrame({\n",
    "    \"duration\": duration_train,\n",
    "    \"event\": event_train,\n",
    "    \"log_risque\": log_hr_fake\n",
    "})\n",
    "df_risque[\"log_risque\"] += np.random.normal(0, 1e-4, size=len(df_risque))\n",
    "\n",
    "# 🔹 Modèle de Cox factice\n",
    "cph = CoxPHFitter()\n",
    "cph.fit(df_risque, duration_col=\"duration\", event_col=\"event\", show_progress=False)\n",
    "\n",
    "# 🔹 Prédiction des fonctions de survie\n",
    "jours = [30, 60, 90, 180]\n",
    "df_preds = pd.DataFrame({\"log_risque\": log_hr_test})\n",
    "surv_funcs = cph.predict_survival_function(df_preds, times=jours)\n",
    "\n",
    "# 🔹 Probabilité de feu à chaque échéance\n",
    "probas_feu = 1 - surv_funcs.T\n",
    "probas_feu.columns = [f\"proba_{j}j\" for j in jours]\n",
    "\n",
    "# # 🔹 Visualisation (ex : les 5 premières courbes)\n",
    "# plt.figure(figsize=(10, 6))\n",
    "# for i in range(5):\n",
    "#     surv_funcs.iloc[:, i].plot(label=f\"Individu {i}\")\n",
    "# plt.title(\"Fonction de survie individuelle (probabilité de ne pas avoir de feu)\")\n",
    "# plt.xlabel(\"Temps (jours)\")\n",
    "# plt.ylabel(\"S(t) = P(pas de feu à t)\")\n",
    "# plt.legend()\n",
    "# plt.grid(True)\n",
    "# plt.show()\n",
    "\n",
    "# # 🔹 Exemple : probabilité de feu à t ≈ 10 jours\n",
    "# t_index = surv_funcs.index.get_indexer([10], method='nearest')[0]\n",
    "# proba_feu_t10 = 1 - surv_funcs.iloc[t_index]\n",
    "# print(\"\\nProbabilité de feu à t ≈ 10 pour chaque individu :\")\n",
    "# print(proba_feu_t10.head())\n",
    "\n",
    "# 🔹 🔍 Évaluation avec le c-index\n",
    "c_index = concordance_index_censored(event_test, duration_test, -log_hr_test)[0]\n",
    "print(f\"\\nC-index (test) : {c_index:.3f}\")\n"
   ]
  },
  {
   "cell_type": "code",
   "execution_count": 97,
   "id": "879366a7",
   "metadata": {},
   "outputs": [
    {
     "name": "stderr",
     "output_type": "stream",
     "text": [
      "c:\\Users\\m_bar\\Incendie\\.venv\\Lib\\site-packages\\pandas\\core\\arraylike.py:399: RuntimeWarning:\n",
      "\n",
      "overflow encountered in exp\n",
      "\n"
     ]
    },
    {
     "data": {
      "application/vnd.plotly.v1+json": {
       "config": {
        "plotlyServerURL": "https://plot.ly"
       },
       "data": [
        {
         "lat": {
          "bdata": "WYVyR6SxREBDTgQWZb5EQEo1omqqy0RAsEozJ3nPREBGcdjHVNNEQBbJDXUO2kRAio0eZP7dREApkxraAOJEQD8gK1Mn4kRALsMkAQ/nREC3lzRG6+dEQG9cENsn8ERAnMXmPpT2RED5VtqYjfhEQK80OjE1AEVAEwshjEQARUCh20saowBFQIaSyamdB0VAgiEGFbAKRUAf7j5VchpFQN17uOS4G0VAW7gHfNkdRUDjXHl/ciBFQDHkfcETJ0VAAoHOpE0oRUCsOqsF9ilFQCU5BZ4gK0VAbEX2nE8uRUDXLhJ/uS9FQEELrl7qN0VA7ScIwyU6RUCjQPqBBj9FQFO3DmmvQ0VAXc3wVeFFRUBteqsJ/UVFQCYXCKeqSEVAgQabOo9ORUCJZ7+k51BFQBxfe2ZJWEVAbUiS1s5nRUDwWMdM/W9FQNH81vPafEVA",
          "dtype": "f8"
         },
         "lon": {
          "bdata": "7U1ngjxSIkB3HWCcrkEiQOrvAKoTjyJAPR3ZpsLxIUAtB3qobcshQPofqjr1PiJAszFllvOrIkB/BuXHqfMhQCbquxHMRyJAUEyDR8AFIkCpLRrXZNIhQIe+YNyy9CFAmd5ZFqd5IUAor99deD8iQGNWOf5VGSJAmo5K+zCQIkDwplt2iNchQDK73YHwpyFAhImaQ60gIkDnuaS7AqQhQEqnv6juuyJAfcW/dP+ZIUB2JbhHJZshQE28AzxpTSJAXZfQE4X8IkCbAMPy5/chQMg7LHnhByJAjv48sl6FIkB9Qzxt6EkiQBVSflLtmyJASIFPvX8RIkDRF4xbFrUiQND53wDpCSJAUUGPYsrVIkCwMyoV+V4iQNzfj5GihCFA5rl0guzPIUBjMNo+P7ciQDdUjPM3wSJA2Be/3x76IkAtrSsLy9wiQF6yO+6lwiJA",
          "dtype": "f8"
         },
         "marker": {
          "cmax": 1,
          "cmin": 0,
          "color": {
           "bdata": "5DLXc9LG4z+aOMwJR7XfP8wbCK8f++4/So59J5sd7D80PhbT19zQPwUr5ri7Y+M/KlHxBdNh0z8UTBl1ydrpP5WTvO1SMdI/ILrQXsDQ5j8uuoZ85YvTP7VynTcNLsU/RfPrVubJ7D8PNBYOlQ7kPyIOyqI7Kts/10Q+daIc2T+rw8VPPezuP+S6rz8C+8Q/S+kGGuRR3j9wAGQ5VBDqP3N0WAMVf8s/h33LWYIztD+EkPn/wcXSPxW6dZiCJO0/hPajGJPd7T92V41zEqvpPwfJahLcP+c/ZeWnjfcqxD9Tjjrf7NHAP8BXy5urGds/wuV63u8nuT8MtmUeKBrpPyn8rrFpuN4/NSPefuWq6z9Fo+DlyXbeP3KyDrkjMtY/gzqxrRx30D/yQ6CXo1jrP/FHfI2yDdo/V8cKg7qg1z+oUyr8s6DbP2zlWsGTxsA/",
           "dtype": "f8"
          },
          "colorscale": [
           [
            0,
            "rgb(0,104,55)"
           ],
           [
            0.1,
            "rgb(26,152,80)"
           ],
           [
            0.2,
            "rgb(102,189,99)"
           ],
           [
            0.3,
            "rgb(166,217,106)"
           ],
           [
            0.4,
            "rgb(217,239,139)"
           ],
           [
            0.5,
            "rgb(255,255,191)"
           ],
           [
            0.6,
            "rgb(254,224,139)"
           ],
           [
            0.7,
            "rgb(253,174,97)"
           ],
           [
            0.8,
            "rgb(244,109,67)"
           ],
           [
            0.9,
            "rgb(215,48,39)"
           ],
           [
            1,
            "rgb(165,0,38)"
           ]
          ],
          "size": 10
         },
         "mode": "markers",
         "name": "7 jours",
         "text": [
          "🔥 Proba feu à 7j : 61.8%",
          "🔥 Proba feu à 7j : 49.5%",
          "🔥 Proba feu à 7j : 96.8%",
          "🔥 Proba feu à 7j : 87.9%",
          "🔥 Proba feu à 7j : 26.3%",
          "🔥 Proba feu à 7j : 60.6%",
          "🔥 Proba feu à 7j : 30.3%",
          "🔥 Proba feu à 7j : 80.8%",
          "🔥 Proba feu à 7j : 28.4%",
          "🔥 Proba feu à 7j : 71.3%",
          "🔥 Proba feu à 7j : 30.5%",
          "🔥 Proba feu à 7j : 16.5%",
          "🔥 Proba feu à 7j : 90.0%",
          "🔥 Proba feu à 7j : 62.7%",
          "🔥 Proba feu à 7j : 42.4%",
          "🔥 Proba feu à 7j : 39.2%",
          "🔥 Proba feu à 7j : 96.6%",
          "🔥 Proba feu à 7j : 16.4%",
          "🔥 Proba feu à 7j : 47.4%",
          "🔥 Proba feu à 7j : 81.4%",
          "🔥 Proba feu à 7j : 21.5%",
          "🔥 Proba feu à 7j : 7.9%",
          "🔥 Proba feu à 7j : 29.3%",
          "🔥 Proba feu à 7j : 91.1%",
          "🔥 Proba feu à 7j : 93.3%",
          "🔥 Proba feu à 7j : 80.2%",
          "🔥 Proba feu à 7j : 72.7%",
          "🔥 Proba feu à 7j : 15.8%",
          "🔥 Proba feu à 7j : 13.1%",
          "🔥 Proba feu à 7j : 42.3%",
          "🔥 Proba feu à 7j : 9.8%",
          "🔥 Proba feu à 7j : 78.4%",
          "🔥 Proba feu à 7j : 48.0%",
          "🔥 Proba feu à 7j : 86.5%",
          "🔥 Proba feu à 7j : 47.6%",
          "🔥 Proba feu à 7j : 34.7%",
          "🔥 Proba feu à 7j : 25.7%",
          "🔥 Proba feu à 7j : 85.5%",
          "🔥 Proba feu à 7j : 40.7%",
          "🔥 Proba feu à 7j : 36.9%",
          "🔥 Proba feu à 7j : 43.2%",
          "🔥 Proba feu à 7j : 13.1%"
         ],
         "type": "scattermap",
         "visible": false
        },
        {
         "lat": {
          "bdata": "WYVyR6SxREBDTgQWZb5EQEo1omqqy0RAsEozJ3nPREBGcdjHVNNEQBbJDXUO2kRAio0eZP7dREApkxraAOJEQD8gK1Mn4kRALsMkAQ/nREC3lzRG6+dEQG9cENsn8ERAnMXmPpT2RED5VtqYjfhEQK80OjE1AEVAEwshjEQARUCh20saowBFQIaSyamdB0VAgiEGFbAKRUAf7j5VchpFQN17uOS4G0VAW7gHfNkdRUDjXHl/ciBFQDHkfcETJ0VAAoHOpE0oRUCsOqsF9ilFQCU5BZ4gK0VAbEX2nE8uRUDXLhJ/uS9FQEELrl7qN0VA7ScIwyU6RUCjQPqBBj9FQFO3DmmvQ0VAXc3wVeFFRUBteqsJ/UVFQCYXCKeqSEVAgQabOo9ORUCJZ7+k51BFQBxfe2ZJWEVAbUiS1s5nRUDwWMdM/W9FQNH81vPafEVA",
          "dtype": "f8"
         },
         "lon": {
          "bdata": "7U1ngjxSIkB3HWCcrkEiQOrvAKoTjyJAPR3ZpsLxIUAtB3qobcshQPofqjr1PiJAszFllvOrIkB/BuXHqfMhQCbquxHMRyJAUEyDR8AFIkCpLRrXZNIhQIe+YNyy9CFAmd5ZFqd5IUAor99deD8iQGNWOf5VGSJAmo5K+zCQIkDwplt2iNchQDK73YHwpyFAhImaQ60gIkDnuaS7AqQhQEqnv6juuyJAfcW/dP+ZIUB2JbhHJZshQE28AzxpTSJAXZfQE4X8IkCbAMPy5/chQMg7LHnhByJAjv48sl6FIkB9Qzxt6EkiQBVSflLtmyJASIFPvX8RIkDRF4xbFrUiQND53wDpCSJAUUGPYsrVIkCwMyoV+V4iQNzfj5GihCFA5rl0guzPIUBjMNo+P7ciQDdUjPM3wSJA2Be/3x76IkAtrSsLy9wiQF6yO+6lwiJA",
          "dtype": "f8"
         },
         "marker": {
          "cmax": 1,
          "cmin": 0,
          "color": {
           "bdata": "+6DSraVh5j9C13G5oF7jPyvVsH05eO8/D87igtTD7T/BbUwOkLnXP5qV0dwAUeY/cXwlO9R12T+Hxys0suzrP2PwZ6YPEdc/7b8HPazE6T86lBzwjbbZP9ZCRwF+y88/fYluG/f37T/vGwDfVdrmPxlHZ85aWuA/E+zV5BPE3z/FY/dqwpHvP8UcteLJec8/77tDt+8G4j/svNT5IQjsP2QS2bP1WtE/HoO6fWZnvj+gjziJQ4XYPzASGOe1u+4/w1Gl16747j82sH+zvdTrP3pz+8jrCeo/5SCvEJTtxz8+4hIe/4/HPzp6l/I2jeA/xHEpzUeqwT8ZIIfVOHDrP9AExIPUWuI/dre9ok7s7D8VqQL8LoviP1uRru3kmdw/fEht/aD70z851LxND8/sPwsimRDNY98/M53McKGZ3z+eUjsP1rTgP/QuZswxPMs/",
           "dtype": "f8"
          },
          "colorbar": {
           "title": {
            "side": "top",
            "text": "Proba feu"
           }
          },
          "colorscale": [
           [
            0,
            "rgb(0,104,55)"
           ],
           [
            0.1,
            "rgb(26,152,80)"
           ],
           [
            0.2,
            "rgb(102,189,99)"
           ],
           [
            0.3,
            "rgb(166,217,106)"
           ],
           [
            0.4,
            "rgb(217,239,139)"
           ],
           [
            0.5,
            "rgb(255,255,191)"
           ],
           [
            0.6,
            "rgb(254,224,139)"
           ],
           [
            0.7,
            "rgb(253,174,97)"
           ],
           [
            0.8,
            "rgb(244,109,67)"
           ],
           [
            0.9,
            "rgb(215,48,39)"
           ],
           [
            1,
            "rgb(165,0,38)"
           ]
          ],
          "size": 10
         },
         "mode": "markers",
         "name": "30 jours",
         "text": [
          "🔥 Proba feu à 30j : 69.9%",
          "🔥 Proba feu à 30j : 60.5%",
          "🔥 Proba feu à 30j : 98.3%",
          "🔥 Proba feu à 30j : 93.0%",
          "🔥 Proba feu à 30j : 37.1%",
          "🔥 Proba feu à 30j : 69.7%",
          "🔥 Proba feu à 30j : 39.8%",
          "🔥 Proba feu à 30j : 87.3%",
          "🔥 Proba feu à 30j : 36.0%",
          "🔥 Proba feu à 30j : 80.5%",
          "🔥 Proba feu à 30j : 40.2%",
          "🔥 Proba feu à 30j : 24.8%",
          "🔥 Proba feu à 30j : 93.7%",
          "🔥 Proba feu à 30j : 71.4%",
          "🔥 Proba feu à 30j : 51.1%",
          "🔥 Proba feu à 30j : 49.6%",
          "🔥 Proba feu à 30j : 98.7%",
          "🔥 Proba feu à 30j : 24.6%",
          "🔥 Proba feu à 30j : 56.3%",
          "🔥 Proba feu à 30j : 87.6%",
          "🔥 Proba feu à 30j : 27.1%",
          "🔥 Proba feu à 30j : 11.9%",
          "🔥 Proba feu à 30j : 38.3%",
          "🔥 Proba feu à 30j : 96.0%",
          "🔥 Proba feu à 30j : 96.8%",
          "🔥 Proba feu à 30j : 87.0%",
          "🔥 Proba feu à 30j : 81.4%",
          "🔥 Proba feu à 30j : 18.7%",
          "🔥 Proba feu à 30j : 18.4%",
          "🔥 Proba feu à 30j : 51.7%",
          "🔥 Proba feu à 30j : 13.8%",
          "🔥 Proba feu à 30j : 85.7%",
          "🔥 Proba feu à 30j : 57.4%",
          "🔥 Proba feu à 30j : 90.4%",
          "🔥 Proba feu à 30j : 57.9%",
          "🔥 Proba feu à 30j : 44.7%",
          "🔥 Proba feu à 30j : 31.2%",
          "🔥 Proba feu à 30j : 90.0%",
          "🔥 Proba feu à 30j : 49.0%",
          "🔥 Proba feu à 30j : 49.4%",
          "🔥 Proba feu à 30j : 52.2%",
          "🔥 Proba feu à 30j : 21.3%"
         ],
         "type": "scattermap",
         "visible": true
        },
        {
         "lat": {
          "bdata": "WYVyR6SxREBDTgQWZb5EQEo1omqqy0RAsEozJ3nPREBGcdjHVNNEQBbJDXUO2kRAio0eZP7dREApkxraAOJEQD8gK1Mn4kRALsMkAQ/nREC3lzRG6+dEQG9cENsn8ERAnMXmPpT2RED5VtqYjfhEQK80OjE1AEVAEwshjEQARUCh20saowBFQIaSyamdB0VAgiEGFbAKRUAf7j5VchpFQN17uOS4G0VAW7gHfNkdRUDjXHl/ciBFQDHkfcETJ0VAAoHOpE0oRUCsOqsF9ilFQCU5BZ4gK0VAbEX2nE8uRUDXLhJ/uS9FQEELrl7qN0VA7ScIwyU6RUCjQPqBBj9FQFO3DmmvQ0VAXc3wVeFFRUBteqsJ/UVFQCYXCKeqSEVAgQabOo9ORUCJZ7+k51BFQBxfe2ZJWEVAbUiS1s5nRUDwWMdM/W9FQNH81vPafEVA",
          "dtype": "f8"
         },
         "lon": {
          "bdata": "7U1ngjxSIkB3HWCcrkEiQOrvAKoTjyJAPR3ZpsLxIUAtB3qobcshQPofqjr1PiJAszFllvOrIkB/BuXHqfMhQCbquxHMRyJAUEyDR8AFIkCpLRrXZNIhQIe+YNyy9CFAmd5ZFqd5IUAor99deD8iQGNWOf5VGSJAmo5K+zCQIkDwplt2iNchQDK73YHwpyFAhImaQ60gIkDnuaS7AqQhQEqnv6juuyJAfcW/dP+ZIUB2JbhHJZshQE28AzxpTSJAXZfQE4X8IkCbAMPy5/chQMg7LHnhByJAjv48sl6FIkB9Qzxt6EkiQBVSflLtmyJASIFPvX8RIkDRF4xbFrUiQND53wDpCSJAUUGPYsrVIkCwMyoV+V4iQNzfj5GihCFA5rl0guzPIUBjMNo+P7ciQDdUjPM3wSJA2Be/3x76IkAtrSsLy9wiQF6yO+6lwiJA",
          "dtype": "f8"
         },
         "marker": {
          "cmax": 1,
          "cmin": 0,
          "color": {
           "bdata": "TKQViY+c5z8xs9RC6hblP1TwtXw+oe8/nfcKX5dU7j+Dda9ihfLaP/TkQqTHoOc/8bCy4+rS3D9TzsQ/tbXsP+k85cB5DNo/bb9Xo5fg6j/Jcz86krTcPzi4XerlVNM/w95w9axj7j+NYdcLmwXoPy0LzjoT7eE/sgU6OLal4T+7/HF61cDvPwZ5c5vSL9M/qwVwnaKA4z+aB295LdjsP7I0PcFpctM/9ijgJix2wj+rBmQZ8qTbP7IM0NrRPO8/C24VGmpW7z9qpjU8RajsPwnPrAVuQOs/8w5ApyfkyT91JbuBeSnLP0p2yvvTH+I/V3OvA/NLxD+NdM0BlFbsPzQ92pA/3+M/LqoAdEhY7T/wj3bnWhDkP4vDR9OzDeA/TycGvqTT1T9IzPq67GztPwctXPk7E+E/+YECaX/q4T9F62xObPLhP6hTomE+gtA/",
           "dtype": "f8"
          },
          "colorscale": [
           [
            0,
            "rgb(0,104,55)"
           ],
           [
            0.1,
            "rgb(26,152,80)"
           ],
           [
            0.2,
            "rgb(102,189,99)"
           ],
           [
            0.3,
            "rgb(166,217,106)"
           ],
           [
            0.4,
            "rgb(217,239,139)"
           ],
           [
            0.5,
            "rgb(255,255,191)"
           ],
           [
            0.6,
            "rgb(254,224,139)"
           ],
           [
            0.7,
            "rgb(253,174,97)"
           ],
           [
            0.8,
            "rgb(244,109,67)"
           ],
           [
            0.9,
            "rgb(215,48,39)"
           ],
           [
            1,
            "rgb(165,0,38)"
           ]
          ],
          "size": 10
         },
         "mode": "markers",
         "name": "60 jours",
         "text": [
          "🔥 Proba feu à 60j : 73.8%",
          "🔥 Proba feu à 60j : 65.9%",
          "🔥 Proba feu à 60j : 98.8%",
          "🔥 Proba feu à 60j : 94.8%",
          "🔥 Proba feu à 60j : 42.1%",
          "🔥 Proba feu à 60j : 73.8%",
          "🔥 Proba feu à 60j : 45.0%",
          "🔥 Proba feu à 60j : 89.7%",
          "🔥 Proba feu à 60j : 40.7%",
          "🔥 Proba feu à 60j : 84.0%",
          "🔥 Proba feu à 60j : 44.9%",
          "🔥 Proba feu à 60j : 30.2%",
          "🔥 Proba feu à 60j : 95.0%",
          "🔥 Proba feu à 60j : 75.1%",
          "🔥 Proba feu à 60j : 56.0%",
          "🔥 Proba feu à 60j : 55.1%",
          "🔥 Proba feu à 60j : 99.2%",
          "🔥 Proba feu à 60j : 30.0%",
          "🔥 Proba feu à 60j : 60.9%",
          "🔥 Proba feu à 60j : 90.1%",
          "🔥 Proba feu à 60j : 30.4%",
          "🔥 Proba feu à 60j : 14.4%",
          "🔥 Proba feu à 60j : 43.2%",
          "🔥 Proba feu à 60j : 97.6%",
          "🔥 Proba feu à 60j : 97.9%",
          "🔥 Proba feu à 60j : 89.6%",
          "🔥 Proba feu à 60j : 85.2%",
          "🔥 Proba feu à 60j : 20.2%",
          "🔥 Proba feu à 60j : 21.2%",
          "🔥 Proba feu à 60j : 56.6%",
          "🔥 Proba feu à 60j : 15.9%",
          "🔥 Proba feu à 60j : 88.6%",
          "🔥 Proba feu à 60j : 62.1%",
          "🔥 Proba feu à 60j : 91.7%",
          "🔥 Proba feu à 60j : 62.7%",
          "🔥 Proba feu à 60j : 50.2%",
          "🔥 Proba feu à 60j : 34.1%",
          "🔥 Proba feu à 60j : 92.0%",
          "🔥 Proba feu à 60j : 53.4%",
          "🔥 Proba feu à 60j : 56.0%",
          "🔥 Proba feu à 60j : 56.1%",
          "🔥 Proba feu à 60j : 25.8%"
         ],
         "type": "scattermap",
         "visible": false
        },
        {
         "lat": {
          "bdata": "WYVyR6SxREBDTgQWZb5EQEo1omqqy0RAsEozJ3nPREBGcdjHVNNEQBbJDXUO2kRAio0eZP7dREApkxraAOJEQD8gK1Mn4kRALsMkAQ/nREC3lzRG6+dEQG9cENsn8ERAnMXmPpT2RED5VtqYjfhEQK80OjE1AEVAEwshjEQARUCh20saowBFQIaSyamdB0VAgiEGFbAKRUAf7j5VchpFQN17uOS4G0VAW7gHfNkdRUDjXHl/ciBFQDHkfcETJ0VAAoHOpE0oRUCsOqsF9ilFQCU5BZ4gK0VAbEX2nE8uRUDXLhJ/uS9FQEELrl7qN0VA7ScIwyU6RUCjQPqBBj9FQFO3DmmvQ0VAXc3wVeFFRUBteqsJ/UVFQCYXCKeqSEVAgQabOo9ORUCJZ7+k51BFQBxfe2ZJWEVAbUiS1s5nRUDwWMdM/W9FQNH81vPafEVA",
          "dtype": "f8"
         },
         "lon": {
          "bdata": "7U1ngjxSIkB3HWCcrkEiQOrvAKoTjyJAPR3ZpsLxIUAtB3qobcshQPofqjr1PiJAszFllvOrIkB/BuXHqfMhQCbquxHMRyJAUEyDR8AFIkCpLRrXZNIhQIe+YNyy9CFAmd5ZFqd5IUAor99deD8iQGNWOf5VGSJAmo5K+zCQIkDwplt2iNchQDK73YHwpyFAhImaQ60gIkDnuaS7AqQhQEqnv6juuyJAfcW/dP+ZIUB2JbhHJZshQE28AzxpTSJAXZfQE4X8IkCbAMPy5/chQMg7LHnhByJAjv48sl6FIkB9Qzxt6EkiQBVSflLtmyJASIFPvX8RIkDRF4xbFrUiQND53wDpCSJAUUGPYsrVIkCwMyoV+V4iQNzfj5GihCFA5rl0guzPIUBjMNo+P7ciQDdUjPM3wSJA2Be/3x76IkAtrSsLy9wiQF6yO+6lwiJA",
          "dtype": "f8"
         },
         "marker": {
          "cmax": 1,
          "cmin": 0,
          "color": {
           "bdata": "IcmgGDFP6D+nNge4DRDmP4mEux+7tO8/iM+gFpuZ7j/GndzERsHcP1TtWcqOW+g/VOrRjD7h3j9O/huNuCDtP0KJ5+HN+ds/DR5HU1Nq6z84vC+4WGbeP9G1XaH3iNU/bbgAA5yX7j+5nuobNKnoP05xv+mP5OI/lW8naFmz4j8+1u/TEtTvP37MuSjubNU/NUY9aOFf5D+MfEmj8ULtP8hBvRTUw9Q/+dp39zePxD/qw4mN8ZbdPyWaPkThcO8/B14eWOGA7z8LHAxo0BXtP9hbsCmw7es/q3gUHIcdyz8wyuhPh2XNP05lP9q7DeM/yFx7S9fvxT+87jtMbcfsP4zwQVgTyuQ/FXFJeY+O7T9DPyNpbOfkP3f/apHiHOE/FgZrAMvv1j/uveoyWsPtPzThdLep5eE/3gzqKkgi4z8x5nMJF6HiP0dF5ZohRdI/",
           "dtype": "f8"
          },
          "colorscale": [
           [
            0,
            "rgb(0,104,55)"
           ],
           [
            0.1,
            "rgb(26,152,80)"
           ],
           [
            0.2,
            "rgb(102,189,99)"
           ],
           [
            0.3,
            "rgb(166,217,106)"
           ],
           [
            0.4,
            "rgb(217,239,139)"
           ],
           [
            0.5,
            "rgb(255,255,191)"
           ],
           [
            0.6,
            "rgb(254,224,139)"
           ],
           [
            0.7,
            "rgb(253,174,97)"
           ],
           [
            0.8,
            "rgb(244,109,67)"
           ],
           [
            0.9,
            "rgb(215,48,39)"
           ],
           [
            1,
            "rgb(165,0,38)"
           ]
          ],
          "size": 10
         },
         "mode": "markers",
         "name": "90 jours",
         "text": [
          "🔥 Proba feu à 90j : 76.0%",
          "🔥 Proba feu à 90j : 68.9%",
          "🔥 Proba feu à 90j : 99.1%",
          "🔥 Proba feu à 90j : 95.6%",
          "🔥 Proba feu à 90j : 44.9%",
          "🔥 Proba feu à 90j : 76.1%",
          "🔥 Proba feu à 90j : 48.2%",
          "🔥 Proba feu à 90j : 91.0%",
          "🔥 Proba feu à 90j : 43.7%",
          "🔥 Proba feu à 90j : 85.7%",
          "🔥 Proba feu à 90j : 47.5%",
          "🔥 Proba feu à 90j : 33.6%",
          "🔥 Proba feu à 90j : 95.6%",
          "🔥 Proba feu à 90j : 77.1%",
          "🔥 Proba feu à 90j : 59.0%",
          "🔥 Proba feu à 90j : 58.4%",
          "🔥 Proba feu à 90j : 99.5%",
          "🔥 Proba feu à 90j : 33.5%",
          "🔥 Proba feu à 90j : 63.7%",
          "🔥 Proba feu à 90j : 91.4%",
          "🔥 Proba feu à 90j : 32.4%",
          "🔥 Proba feu à 90j : 16.1%",
          "🔥 Proba feu à 90j : 46.2%",
          "🔥 Proba feu à 90j : 98.3%",
          "🔥 Proba feu à 90j : 98.4%",
          "🔥 Proba feu à 90j : 90.9%",
          "🔥 Proba feu à 90j : 87.3%",
          "🔥 Proba feu à 90j : 21.2%",
          "🔥 Proba feu à 90j : 23.0%",
          "🔥 Proba feu à 90j : 59.5%",
          "🔥 Proba feu à 90j : 17.1%",
          "🔥 Proba feu à 90j : 89.9%",
          "🔥 Proba feu à 90j : 65.0%",
          "🔥 Proba feu à 90j : 92.4%",
          "🔥 Proba feu à 90j : 65.3%",
          "🔥 Proba feu à 90j : 53.5%",
          "🔥 Proba feu à 90j : 35.8%",
          "🔥 Proba feu à 90j : 93.0%",
          "🔥 Proba feu à 90j : 55.9%",
          "🔥 Proba feu à 90j : 59.8%",
          "🔥 Proba feu à 90j : 58.2%",
          "🔥 Proba feu à 90j : 28.5%"
         ],
         "type": "scattermap",
         "visible": false
        },
        {
         "lat": {
          "bdata": "WYVyR6SxREBDTgQWZb5EQEo1omqqy0RAsEozJ3nPREBGcdjHVNNEQBbJDXUO2kRAio0eZP7dREApkxraAOJEQD8gK1Mn4kRALsMkAQ/nREC3lzRG6+dEQG9cENsn8ERAnMXmPpT2RED5VtqYjfhEQK80OjE1AEVAEwshjEQARUCh20saowBFQIaSyamdB0VAgiEGFbAKRUAf7j5VchpFQN17uOS4G0VAW7gHfNkdRUDjXHl/ciBFQDHkfcETJ0VAAoHOpE0oRUCsOqsF9ilFQCU5BZ4gK0VAbEX2nE8uRUDXLhJ/uS9FQEELrl7qN0VA7ScIwyU6RUCjQPqBBj9FQFO3DmmvQ0VAXc3wVeFFRUBteqsJ/UVFQCYXCKeqSEVAgQabOo9ORUCJZ7+k51BFQBxfe2ZJWEVAbUiS1s5nRUDwWMdM/W9FQNH81vPafEVA",
          "dtype": "f8"
         },
         "lon": {
          "bdata": "7U1ngjxSIkB3HWCcrkEiQOrvAKoTjyJAPR3ZpsLxIUAtB3qobcshQPofqjr1PiJAszFllvOrIkB/BuXHqfMhQCbquxHMRyJAUEyDR8AFIkCpLRrXZNIhQIe+YNyy9CFAmd5ZFqd5IUAor99deD8iQGNWOf5VGSJAmo5K+zCQIkDwplt2iNchQDK73YHwpyFAhImaQ60gIkDnuaS7AqQhQEqnv6juuyJAfcW/dP+ZIUB2JbhHJZshQE28AzxpTSJAXZfQE4X8IkCbAMPy5/chQMg7LHnhByJAjv48sl6FIkB9Qzxt6EkiQBVSflLtmyJASIFPvX8RIkDRF4xbFrUiQND53wDpCSJAUUGPYsrVIkCwMyoV+V4iQNzfj5GihCFA5rl0guzPIUBjMNo+P7ciQDdUjPM3wSJA2Be/3x76IkAtrSsLy9wiQF6yO+6lwiJA",
          "dtype": "f8"
         },
         "marker": {
          "cmax": 1,
          "cmin": 0,
          "color": {
           "bdata": "8AdBgB9I6T9yLxuEFWrnP6UNWH4EzO8/PZ4TGGrr7j8qdW68hEbfP1sMkGJfXuk/4K8LKVn24D+AQCSY7bDtP3KMocL0/t4/PVJqV3AQ7D+VC4Olr2XgP+xj9IfA6tg/TRXlfv/W7j/bm5yQiIzpP+VUwXn1VOQ/F/XX5Dw85D8dV9zpmefvPx9GrBkY59g/1wGbc5Wh5T9zCNcuSMrtP6lsYJcGytY/CTxPFaPUxz8Vm+U+MkbgPwzKuzc6pO8/zxwiMemv7z+WIW43g6PtPw9r7yOG3ew/ZlsBJ88TzT+r+Rx0L3HQP4Hxn3DqZeQ/XFonqLh2yD9hz3SAX1LtP9IUgdroJuY/3jPS3LLV7T9gqFUHlxHmPwgfrkgYruI/9L7zwJWX2D8PW5FO5zjuP1kUeuU4FeM/4/9IZQ3U5D83mbUllpXjP6r4Ta7M69Q/",
           "dtype": "f8"
          },
          "colorscale": [
           [
            0,
            "rgb(0,104,55)"
           ],
           [
            0.1,
            "rgb(26,152,80)"
           ],
           [
            0.2,
            "rgb(102,189,99)"
           ],
           [
            0.3,
            "rgb(166,217,106)"
           ],
           [
            0.4,
            "rgb(217,239,139)"
           ],
           [
            0.5,
            "rgb(255,255,191)"
           ],
           [
            0.6,
            "rgb(254,224,139)"
           ],
           [
            0.7,
            "rgb(253,174,97)"
           ],
           [
            0.8,
            "rgb(244,109,67)"
           ],
           [
            0.9,
            "rgb(215,48,39)"
           ],
           [
            1,
            "rgb(165,0,38)"
           ]
          ],
          "size": 10
         },
         "mode": "markers",
         "name": "180 jours",
         "text": [
          "🔥 Proba feu à 180j : 79.0%",
          "🔥 Proba feu à 180j : 73.2%",
          "🔥 Proba feu à 180j : 99.4%",
          "🔥 Proba feu à 180j : 96.6%",
          "🔥 Proba feu à 180j : 48.9%",
          "🔥 Proba feu à 180j : 79.3%",
          "🔥 Proba feu à 180j : 53.0%",
          "🔥 Proba feu à 180j : 92.8%",
          "🔥 Proba feu à 180j : 48.4%",
          "🔥 Proba feu à 180j : 87.7%",
          "🔥 Proba feu à 180j : 51.2%",
          "🔥 Proba feu à 180j : 38.9%",
          "🔥 Proba feu à 180j : 96.4%",
          "🔥 Proba feu à 180j : 79.8%",
          "🔥 Proba feu à 180j : 63.5%",
          "🔥 Proba feu à 180j : 63.2%",
          "🔥 Proba feu à 180j : 99.7%",
          "🔥 Proba feu à 180j : 38.9%",
          "🔥 Proba feu à 180j : 67.6%",
          "🔥 Proba feu à 180j : 93.1%",
          "🔥 Proba feu à 180j : 35.6%",
          "🔥 Proba feu à 180j : 18.6%",
          "🔥 Proba feu à 180j : 50.9%",
          "🔥 Proba feu à 180j : 98.9%",
          "🔥 Proba feu à 180j : 99.0%",
          "🔥 Proba feu à 180j : 92.6%",
          "🔥 Proba feu à 180j : 90.2%",
          "🔥 Proba feu à 180j : 22.7%",
          "🔥 Proba feu à 180j : 25.7%",
          "🔥 Proba feu à 180j : 63.7%",
          "🔥 Proba feu à 180j : 19.1%",
          "🔥 Proba feu à 180j : 91.6%",
          "🔥 Proba feu à 180j : 69.2%",
          "🔥 Proba feu à 180j : 93.2%",
          "🔥 Proba feu à 180j : 69.0%",
          "🔥 Proba feu à 180j : 58.4%",
          "🔥 Proba feu à 180j : 38.4%",
          "🔥 Proba feu à 180j : 94.4%",
          "🔥 Proba feu à 180j : 59.6%",
          "🔥 Proba feu à 180j : 65.1%",
          "🔥 Proba feu à 180j : 61.2%",
          "🔥 Proba feu à 180j : 32.7%"
         ],
         "type": "scattermap",
         "visible": false
        }
       ],
       "layout": {
        "mapbox": {
         "center": {
          "lat": 42.174307761095235,
          "lon": 9.113655708357141
         },
         "style": "open-street-map",
         "zoom": 6
        },
        "margin": {
         "b": 0,
         "l": 0,
         "r": 0,
         "t": 40
        },
        "template": {
         "data": {
          "bar": [
           {
            "error_x": {
             "color": "#2a3f5f"
            },
            "error_y": {
             "color": "#2a3f5f"
            },
            "marker": {
             "line": {
              "color": "#E5ECF6",
              "width": 0.5
             },
             "pattern": {
              "fillmode": "overlay",
              "size": 10,
              "solidity": 0.2
             }
            },
            "type": "bar"
           }
          ],
          "barpolar": [
           {
            "marker": {
             "line": {
              "color": "#E5ECF6",
              "width": 0.5
             },
             "pattern": {
              "fillmode": "overlay",
              "size": 10,
              "solidity": 0.2
             }
            },
            "type": "barpolar"
           }
          ],
          "carpet": [
           {
            "aaxis": {
             "endlinecolor": "#2a3f5f",
             "gridcolor": "white",
             "linecolor": "white",
             "minorgridcolor": "white",
             "startlinecolor": "#2a3f5f"
            },
            "baxis": {
             "endlinecolor": "#2a3f5f",
             "gridcolor": "white",
             "linecolor": "white",
             "minorgridcolor": "white",
             "startlinecolor": "#2a3f5f"
            },
            "type": "carpet"
           }
          ],
          "choropleth": [
           {
            "colorbar": {
             "outlinewidth": 0,
             "ticks": ""
            },
            "type": "choropleth"
           }
          ],
          "contour": [
           {
            "colorbar": {
             "outlinewidth": 0,
             "ticks": ""
            },
            "colorscale": [
             [
              0,
              "#0d0887"
             ],
             [
              0.1111111111111111,
              "#46039f"
             ],
             [
              0.2222222222222222,
              "#7201a8"
             ],
             [
              0.3333333333333333,
              "#9c179e"
             ],
             [
              0.4444444444444444,
              "#bd3786"
             ],
             [
              0.5555555555555556,
              "#d8576b"
             ],
             [
              0.6666666666666666,
              "#ed7953"
             ],
             [
              0.7777777777777778,
              "#fb9f3a"
             ],
             [
              0.8888888888888888,
              "#fdca26"
             ],
             [
              1,
              "#f0f921"
             ]
            ],
            "type": "contour"
           }
          ],
          "contourcarpet": [
           {
            "colorbar": {
             "outlinewidth": 0,
             "ticks": ""
            },
            "type": "contourcarpet"
           }
          ],
          "heatmap": [
           {
            "colorbar": {
             "outlinewidth": 0,
             "ticks": ""
            },
            "colorscale": [
             [
              0,
              "#0d0887"
             ],
             [
              0.1111111111111111,
              "#46039f"
             ],
             [
              0.2222222222222222,
              "#7201a8"
             ],
             [
              0.3333333333333333,
              "#9c179e"
             ],
             [
              0.4444444444444444,
              "#bd3786"
             ],
             [
              0.5555555555555556,
              "#d8576b"
             ],
             [
              0.6666666666666666,
              "#ed7953"
             ],
             [
              0.7777777777777778,
              "#fb9f3a"
             ],
             [
              0.8888888888888888,
              "#fdca26"
             ],
             [
              1,
              "#f0f921"
             ]
            ],
            "type": "heatmap"
           }
          ],
          "histogram": [
           {
            "marker": {
             "pattern": {
              "fillmode": "overlay",
              "size": 10,
              "solidity": 0.2
             }
            },
            "type": "histogram"
           }
          ],
          "histogram2d": [
           {
            "colorbar": {
             "outlinewidth": 0,
             "ticks": ""
            },
            "colorscale": [
             [
              0,
              "#0d0887"
             ],
             [
              0.1111111111111111,
              "#46039f"
             ],
             [
              0.2222222222222222,
              "#7201a8"
             ],
             [
              0.3333333333333333,
              "#9c179e"
             ],
             [
              0.4444444444444444,
              "#bd3786"
             ],
             [
              0.5555555555555556,
              "#d8576b"
             ],
             [
              0.6666666666666666,
              "#ed7953"
             ],
             [
              0.7777777777777778,
              "#fb9f3a"
             ],
             [
              0.8888888888888888,
              "#fdca26"
             ],
             [
              1,
              "#f0f921"
             ]
            ],
            "type": "histogram2d"
           }
          ],
          "histogram2dcontour": [
           {
            "colorbar": {
             "outlinewidth": 0,
             "ticks": ""
            },
            "colorscale": [
             [
              0,
              "#0d0887"
             ],
             [
              0.1111111111111111,
              "#46039f"
             ],
             [
              0.2222222222222222,
              "#7201a8"
             ],
             [
              0.3333333333333333,
              "#9c179e"
             ],
             [
              0.4444444444444444,
              "#bd3786"
             ],
             [
              0.5555555555555556,
              "#d8576b"
             ],
             [
              0.6666666666666666,
              "#ed7953"
             ],
             [
              0.7777777777777778,
              "#fb9f3a"
             ],
             [
              0.8888888888888888,
              "#fdca26"
             ],
             [
              1,
              "#f0f921"
             ]
            ],
            "type": "histogram2dcontour"
           }
          ],
          "mesh3d": [
           {
            "colorbar": {
             "outlinewidth": 0,
             "ticks": ""
            },
            "type": "mesh3d"
           }
          ],
          "parcoords": [
           {
            "line": {
             "colorbar": {
              "outlinewidth": 0,
              "ticks": ""
             }
            },
            "type": "parcoords"
           }
          ],
          "pie": [
           {
            "automargin": true,
            "type": "pie"
           }
          ],
          "scatter": [
           {
            "fillpattern": {
             "fillmode": "overlay",
             "size": 10,
             "solidity": 0.2
            },
            "type": "scatter"
           }
          ],
          "scatter3d": [
           {
            "line": {
             "colorbar": {
              "outlinewidth": 0,
              "ticks": ""
             }
            },
            "marker": {
             "colorbar": {
              "outlinewidth": 0,
              "ticks": ""
             }
            },
            "type": "scatter3d"
           }
          ],
          "scattercarpet": [
           {
            "marker": {
             "colorbar": {
              "outlinewidth": 0,
              "ticks": ""
             }
            },
            "type": "scattercarpet"
           }
          ],
          "scattergeo": [
           {
            "marker": {
             "colorbar": {
              "outlinewidth": 0,
              "ticks": ""
             }
            },
            "type": "scattergeo"
           }
          ],
          "scattergl": [
           {
            "marker": {
             "colorbar": {
              "outlinewidth": 0,
              "ticks": ""
             }
            },
            "type": "scattergl"
           }
          ],
          "scattermap": [
           {
            "marker": {
             "colorbar": {
              "outlinewidth": 0,
              "ticks": ""
             }
            },
            "type": "scattermap"
           }
          ],
          "scattermapbox": [
           {
            "marker": {
             "colorbar": {
              "outlinewidth": 0,
              "ticks": ""
             }
            },
            "type": "scattermapbox"
           }
          ],
          "scatterpolar": [
           {
            "marker": {
             "colorbar": {
              "outlinewidth": 0,
              "ticks": ""
             }
            },
            "type": "scatterpolar"
           }
          ],
          "scatterpolargl": [
           {
            "marker": {
             "colorbar": {
              "outlinewidth": 0,
              "ticks": ""
             }
            },
            "type": "scatterpolargl"
           }
          ],
          "scatterternary": [
           {
            "marker": {
             "colorbar": {
              "outlinewidth": 0,
              "ticks": ""
             }
            },
            "type": "scatterternary"
           }
          ],
          "surface": [
           {
            "colorbar": {
             "outlinewidth": 0,
             "ticks": ""
            },
            "colorscale": [
             [
              0,
              "#0d0887"
             ],
             [
              0.1111111111111111,
              "#46039f"
             ],
             [
              0.2222222222222222,
              "#7201a8"
             ],
             [
              0.3333333333333333,
              "#9c179e"
             ],
             [
              0.4444444444444444,
              "#bd3786"
             ],
             [
              0.5555555555555556,
              "#d8576b"
             ],
             [
              0.6666666666666666,
              "#ed7953"
             ],
             [
              0.7777777777777778,
              "#fb9f3a"
             ],
             [
              0.8888888888888888,
              "#fdca26"
             ],
             [
              1,
              "#f0f921"
             ]
            ],
            "type": "surface"
           }
          ],
          "table": [
           {
            "cells": {
             "fill": {
              "color": "#EBF0F8"
             },
             "line": {
              "color": "white"
             }
            },
            "header": {
             "fill": {
              "color": "#C8D4E3"
             },
             "line": {
              "color": "white"
             }
            },
            "type": "table"
           }
          ]
         },
         "layout": {
          "annotationdefaults": {
           "arrowcolor": "#2a3f5f",
           "arrowhead": 0,
           "arrowwidth": 1
          },
          "autotypenumbers": "strict",
          "coloraxis": {
           "colorbar": {
            "outlinewidth": 0,
            "ticks": ""
           }
          },
          "colorscale": {
           "diverging": [
            [
             0,
             "#8e0152"
            ],
            [
             0.1,
             "#c51b7d"
            ],
            [
             0.2,
             "#de77ae"
            ],
            [
             0.3,
             "#f1b6da"
            ],
            [
             0.4,
             "#fde0ef"
            ],
            [
             0.5,
             "#f7f7f7"
            ],
            [
             0.6,
             "#e6f5d0"
            ],
            [
             0.7,
             "#b8e186"
            ],
            [
             0.8,
             "#7fbc41"
            ],
            [
             0.9,
             "#4d9221"
            ],
            [
             1,
             "#276419"
            ]
           ],
           "sequential": [
            [
             0,
             "#0d0887"
            ],
            [
             0.1111111111111111,
             "#46039f"
            ],
            [
             0.2222222222222222,
             "#7201a8"
            ],
            [
             0.3333333333333333,
             "#9c179e"
            ],
            [
             0.4444444444444444,
             "#bd3786"
            ],
            [
             0.5555555555555556,
             "#d8576b"
            ],
            [
             0.6666666666666666,
             "#ed7953"
            ],
            [
             0.7777777777777778,
             "#fb9f3a"
            ],
            [
             0.8888888888888888,
             "#fdca26"
            ],
            [
             1,
             "#f0f921"
            ]
           ],
           "sequentialminus": [
            [
             0,
             "#0d0887"
            ],
            [
             0.1111111111111111,
             "#46039f"
            ],
            [
             0.2222222222222222,
             "#7201a8"
            ],
            [
             0.3333333333333333,
             "#9c179e"
            ],
            [
             0.4444444444444444,
             "#bd3786"
            ],
            [
             0.5555555555555556,
             "#d8576b"
            ],
            [
             0.6666666666666666,
             "#ed7953"
            ],
            [
             0.7777777777777778,
             "#fb9f3a"
            ],
            [
             0.8888888888888888,
             "#fdca26"
            ],
            [
             1,
             "#f0f921"
            ]
           ]
          },
          "colorway": [
           "#636efa",
           "#EF553B",
           "#00cc96",
           "#ab63fa",
           "#FFA15A",
           "#19d3f3",
           "#FF6692",
           "#B6E880",
           "#FF97FF",
           "#FECB52"
          ],
          "font": {
           "color": "#2a3f5f"
          },
          "geo": {
           "bgcolor": "white",
           "lakecolor": "white",
           "landcolor": "#E5ECF6",
           "showlakes": true,
           "showland": true,
           "subunitcolor": "white"
          },
          "hoverlabel": {
           "align": "left"
          },
          "hovermode": "closest",
          "mapbox": {
           "style": "light"
          },
          "paper_bgcolor": "white",
          "plot_bgcolor": "#E5ECF6",
          "polar": {
           "angularaxis": {
            "gridcolor": "white",
            "linecolor": "white",
            "ticks": ""
           },
           "bgcolor": "#E5ECF6",
           "radialaxis": {
            "gridcolor": "white",
            "linecolor": "white",
            "ticks": ""
           }
          },
          "scene": {
           "xaxis": {
            "backgroundcolor": "#E5ECF6",
            "gridcolor": "white",
            "gridwidth": 2,
            "linecolor": "white",
            "showbackground": true,
            "ticks": "",
            "zerolinecolor": "white"
           },
           "yaxis": {
            "backgroundcolor": "#E5ECF6",
            "gridcolor": "white",
            "gridwidth": 2,
            "linecolor": "white",
            "showbackground": true,
            "ticks": "",
            "zerolinecolor": "white"
           },
           "zaxis": {
            "backgroundcolor": "#E5ECF6",
            "gridcolor": "white",
            "gridwidth": 2,
            "linecolor": "white",
            "showbackground": true,
            "ticks": "",
            "zerolinecolor": "white"
           }
          },
          "shapedefaults": {
           "line": {
            "color": "#2a3f5f"
           }
          },
          "ternary": {
           "aaxis": {
            "gridcolor": "white",
            "linecolor": "white",
            "ticks": ""
           },
           "baxis": {
            "gridcolor": "white",
            "linecolor": "white",
            "ticks": ""
           },
           "bgcolor": "#E5ECF6",
           "caxis": {
            "gridcolor": "white",
            "linecolor": "white",
            "ticks": ""
           }
          },
          "title": {
           "x": 0.05
          },
          "xaxis": {
           "automargin": true,
           "gridcolor": "white",
           "linecolor": "white",
           "ticks": "",
           "title": {
            "standoff": 15
           },
           "zerolinecolor": "white",
           "zerolinewidth": 2
          },
          "yaxis": {
           "automargin": true,
           "gridcolor": "white",
           "linecolor": "white",
           "ticks": "",
           "title": {
            "standoff": 15
           },
           "zerolinecolor": "white",
           "zerolinewidth": 2
          }
         }
        },
        "title": {
         "text": "Carte des probabilités de feu à 30 jours"
        },
        "updatemenus": [
         {
          "buttons": [
           {
            "args": [
             {
              "visible": [
               true,
               false,
               false,
               false,
               false
              ]
             },
             {
              "title": "Carte des probabilités de feu à 7 jours"
             }
            ],
            "label": "7 jours",
            "method": "update"
           },
           {
            "args": [
             {
              "visible": [
               false,
               true,
               false,
               false,
               false
              ]
             },
             {
              "title": "Carte des probabilités de feu à 30 jours"
             }
            ],
            "label": "30 jours",
            "method": "update"
           },
           {
            "args": [
             {
              "visible": [
               false,
               false,
               true,
               false,
               false
              ]
             },
             {
              "title": "Carte des probabilités de feu à 60 jours"
             }
            ],
            "label": "60 jours",
            "method": "update"
           },
           {
            "args": [
             {
              "visible": [
               false,
               false,
               false,
               true,
               false
              ]
             },
             {
              "title": "Carte des probabilités de feu à 90 jours"
             }
            ],
            "label": "90 jours",
            "method": "update"
           },
           {
            "args": [
             {
              "visible": [
               false,
               false,
               false,
               false,
               true
              ]
             },
             {
              "title": "Carte des probabilités de feu à 180 jours"
             }
            ],
            "label": "180 jours",
            "method": "update"
           }
          ],
          "direction": "down",
          "showactive": true,
          "x": 0.01,
          "xanchor": "left",
          "y": 1.05,
          "yanchor": "top"
         }
        ]
       }
      }
     },
     "metadata": {},
     "output_type": "display_data"
    }
   ],
   "source": [
    "import pandas as pd\n",
    "import plotly.express as px\n",
    "import plotly.graph_objects as go\n",
    "\n",
    "# 🔹 Récupération des données\n",
    "coords_test = df_clean.loc[X_test.index, [\"latitude\", \"longitude\"]].reset_index(drop=True)\n",
    "\n",
    "times = [7, 30, 60, 90, 180]\n",
    "surv_funcs = cph.predict_survival_function(df_preds, times=times)\n",
    "probas_feu = 1 - surv_funcs.T\n",
    "probas_feu.columns = [f\"proba_{t}j\" for t in times]\n",
    "\n",
    "df_map = pd.concat([coords_test, probas_feu.reset_index(drop=True)], axis=1)\n",
    "\n",
    "# 🔹 Fusion coordonnées similaires (moyenne si plusieurs lignes au même endroit)\n",
    "df_visu = df_map.groupby([\"latitude\", \"longitude\"]).mean().reset_index()\n",
    "\n",
    "# 🔹 Création des traces pour chaque période\n",
    "fig = go.Figure()\n",
    "\n",
    "for t in times:\n",
    "    visible = True if t == 30 else False  # Seule la première période est visible au début\n",
    "    fig.add_trace(go.Scattermap(\n",
    "        lat=df_visu[\"latitude\"],\n",
    "        lon=df_visu[\"longitude\"],\n",
    "        mode='markers',\n",
    "        marker=go.scattermap.Marker(\n",
    "            size=10,\n",
    "            color=df_visu[f\"proba_{t}j\"],\n",
    "            colorscale=\"RdYlGn_r\",\n",
    "            cmin=0, cmax=1,\n",
    "            colorbar=dict(title=\"Proba feu\", title_side=\"top\") if t == 30 else None\n",
    "        ),\n",
    "        text=[f\"🔥 Proba feu à {t}j : {p:.1%}\" for p in df_visu[f\"proba_{t}j\"]],\n",
    "        name=f\"{t} jours\",\n",
    "        visible=visible\n",
    "    ))\n",
    "\n",
    "# 🔹 Menu déroulant\n",
    "fig.update_layout(\n",
    "    updatemenus=[{\n",
    "        \"buttons\": [\n",
    "            {\n",
    "                \"label\": f\"{t} jours\",\n",
    "                \"method\": \"update\",\n",
    "                \"args\": [\n",
    "                    {\"visible\": [i == j for i in range(len(times))]},\n",
    "                    {\"title\": f\"Carte des probabilités de feu à {t} jours\"}\n",
    "                ]\n",
    "            }\n",
    "            for j, t in enumerate(times)\n",
    "        ],\n",
    "        \"direction\": \"down\",\n",
    "        \"showactive\": True,\n",
    "        \"x\": 0.01,\n",
    "        \"xanchor\": \"left\",\n",
    "        \"y\": 1.05,\n",
    "        \"yanchor\": \"top\"\n",
    "    }]\n",
    ")\n",
    "\n",
    "# 🔹 Autres paramètres de la carte\n",
    "fig.update_layout(\n",
    "    mapbox_style=\"open-street-map\",\n",
    "    mapbox_zoom=6,\n",
    "    mapbox_center={\"lat\": df_visu[\"latitude\"].mean(), \"lon\": df_visu[\"longitude\"].mean()},\n",
    "    margin={\"r\":0, \"t\":40, \"l\":0, \"b\":0},\n",
    "    title=\"Carte des probabilités de feu à 30 jours\"\n",
    ")\n",
    "\n",
    "fig.show()\n"
   ]
  }
 ],
 "metadata": {
  "kernelspec": {
   "display_name": ".venv",
   "language": "python",
   "name": "python3"
  },
  "language_info": {
   "codemirror_mode": {
    "name": "ipython",
    "version": 3
   },
   "file_extension": ".py",
   "mimetype": "text/x-python",
   "name": "python",
   "nbconvert_exporter": "python",
   "pygments_lexer": "ipython3",
   "version": "3.12.9"
  }
 },
 "nbformat": 4,
 "nbformat_minor": 5
}
