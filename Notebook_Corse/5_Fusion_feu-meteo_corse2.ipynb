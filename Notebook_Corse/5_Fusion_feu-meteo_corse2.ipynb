{
 "cells": [
  {
   "cell_type": "code",
   "execution_count": 1,
   "id": "7ea3cd61",
   "metadata": {},
   "outputs": [],
   "source": [
    "import pandas as pd\n",
    "import requests\n",
    "import time\n",
    "import os\n",
    "import matplotlib.pyplot as plt\n",
    "import plotly.express as px\n",
    "import plotly.graph_objects as go\n",
    "import numpy as np\n",
    "import seaborn as sns\n",
    "import boto3\n",
    "from sklearn.cluster import DBSCAN\n",
    "from sklearn.pipeline import Pipeline\n",
    "from sklearn.compose import ColumnTransformer\n",
    "from sklearn.preprocessing import OneHotEncoder\n",
    "from tqdm import tqdm"
   ]
  },
  {
   "cell_type": "markdown",
   "id": "9088f6ed",
   "metadata": {},
   "source": [
    "#### Visu de l'historique des feux"
   ]
  },
  {
   "cell_type": "code",
   "execution_count": 2,
   "id": "295e8519",
   "metadata": {},
   "outputs": [],
   "source": [
    "feux = pd.read_csv('https://projet-incendie.s3.eu-west-3.amazonaws.com/historique_incendies_avec_coordonnees.csv', sep=';', encoding='utf-8')\n",
    "pd.set_option('display.max_columns', None)\n",
    "\n",
    "\n"
   ]
  },
  {
   "cell_type": "code",
   "execution_count": 3,
   "id": "f631b132",
   "metadata": {},
   "outputs": [],
   "source": [
    "pd.set_option('display.max_rows', None)"
   ]
  },
  {
   "cell_type": "code",
   "execution_count": 4,
   "id": "a9d46be0",
   "metadata": {},
   "outputs": [
    {
     "data": {
      "text/html": [
       "<div>\n",
       "<style scoped>\n",
       "    .dataframe tbody tr th:only-of-type {\n",
       "        vertical-align: middle;\n",
       "    }\n",
       "\n",
       "    .dataframe tbody tr th {\n",
       "        vertical-align: top;\n",
       "    }\n",
       "\n",
       "    .dataframe thead th {\n",
       "        text-align: right;\n",
       "    }\n",
       "</style>\n",
       "<table border=\"1\" class=\"dataframe\">\n",
       "  <thead>\n",
       "    <tr style=\"text-align: right;\">\n",
       "      <th></th>\n",
       "      <th>Code INSEE</th>\n",
       "      <th>Code Postal</th>\n",
       "      <th>Commune</th>\n",
       "      <th>geo_point_2d</th>\n",
       "    </tr>\n",
       "  </thead>\n",
       "  <tbody>\n",
       "    <tr>\n",
       "      <th>0</th>\n",
       "      <td>66033</td>\n",
       "      <td>66300</td>\n",
       "      <td>CAMELAS</td>\n",
       "      <td>42.639460715710925, 2.6889148905394613</td>\n",
       "    </tr>\n",
       "    <tr>\n",
       "      <th>1</th>\n",
       "      <td>64254</td>\n",
       "      <td>64370</td>\n",
       "      <td>HAGETAUBIN</td>\n",
       "      <td>43.510561909594024, -0.612895161323306</td>\n",
       "    </tr>\n",
       "    <tr>\n",
       "      <th>2</th>\n",
       "      <td>47260</td>\n",
       "      <td>47270</td>\n",
       "      <td>SAINT-MAURIN</td>\n",
       "      <td>44.21584680376108, 0.8936370457330151</td>\n",
       "    </tr>\n",
       "    <tr>\n",
       "      <th>3</th>\n",
       "      <td>80118</td>\n",
       "      <td>80150</td>\n",
       "      <td>BOUFFLERS</td>\n",
       "      <td>50.25894479050434, 2.021288658965274</td>\n",
       "    </tr>\n",
       "    <tr>\n",
       "      <th>4</th>\n",
       "      <td>46147</td>\n",
       "      <td>46220</td>\n",
       "      <td>LAGARDELLE</td>\n",
       "      <td>44.48709070580215, 1.170693334968643</td>\n",
       "    </tr>\n",
       "  </tbody>\n",
       "</table>\n",
       "</div>"
      ],
      "text/plain": [
       "  Code INSEE Code Postal       Commune                            geo_point_2d\n",
       "0      66033       66300       CAMELAS  42.639460715710925, 2.6889148905394613\n",
       "1      64254       64370    HAGETAUBIN  43.510561909594024, -0.612895161323306\n",
       "2      47260       47270  SAINT-MAURIN   44.21584680376108, 0.8936370457330151\n",
       "3      80118       80150     BOUFFLERS    50.25894479050434, 2.021288658965274\n",
       "4      46147       46220    LAGARDELLE    44.48709070580215, 1.170693334968643"
      ]
     },
     "execution_count": 4,
     "metadata": {},
     "output_type": "execute_result"
    }
   ],
   "source": [
    "#ajout du code postale via le code insee pour joindre le fichier corse pr la suite\n",
    "df = pd.read_csv('correspondance-code-insee-code-postal.csv', sep=';', encoding='utf-8')\n",
    "df = df.drop(columns=['Département','Région','Statut','Altitude Moyenne','Superficie','Population','geo_shape','ID Geofla','Code Commune','Code Canton','Code Arrondissement','Code Département','Code Région'], axis=1)\n",
    "df.head()"
   ]
  },
  {
   "cell_type": "code",
   "execution_count": 5,
   "id": "b3b08a69",
   "metadata": {},
   "outputs": [],
   "source": [
    "df_feux = pd.merge(feux, df, on=['Code INSEE'], how='left')\n"
   ]
  },
  {
   "cell_type": "markdown",
   "id": "f55814b4",
   "metadata": {},
   "source": [
    "#### Rajout de la météo"
   ]
  },
  {
   "cell_type": "code",
   "execution_count": 7,
   "id": "00736309",
   "metadata": {},
   "outputs": [],
   "source": [
    "df_meteo=pd.read_csv('output/corse_meteo_cleaned_features.csv', sep=';', encoding='utf-8')\n"
   ]
  },
  {
   "cell_type": "code",
   "execution_count": null,
   "id": "3e39b28e",
   "metadata": {},
   "outputs": [],
   "source": [
    "df_meteo.rename({'DATE': 'Date'}, axis=1, inplace=True)\n",
    "df_meteo['Date'] = pd.to_datetime(df_meteo['Date']).dt.normalize()\n",
    "df_feux['Date'] = pd.to_datetime(df_feux['Date']).dt.normalize()"
   ]
  },
  {
   "cell_type": "markdown",
   "id": "ca863a7e",
   "metadata": {},
   "source": [
    "### Merge Feux et météo"
   ]
  },
  {
   "cell_type": "code",
   "execution_count": null,
   "id": "739847b5",
   "metadata": {},
   "outputs": [],
   "source": [
    "feux_corse = df_feux[df_feux['Département'].isin(['2A', '2B', 2])]\n",
    "feux_corse = feux_corse.drop(feux_corse.columns[[12, 13, 14, 21]], axis=1)\n",
    "feux_corse = feux_corse.rename(columns={'Nom de la commune': 'ville'})"
   ]
  },
  {
   "cell_type": "code",
   "execution_count": null,
   "id": "231bfb3a",
   "metadata": {},
   "outputs": [],
   "source": [
    "df= pd.merge(df_meteo, feux_corse, on=['Date', 'ville'], how='outer')\n",
    "df['Feux'].value_counts()"
   ]
  },
  {
   "cell_type": "markdown",
   "id": "131e029c",
   "metadata": {},
   "source": [
    "# Test pour ajouter un feu sur bonifacio"
   ]
  },
  {
   "cell_type": "code",
   "execution_count": 17,
   "id": "499ca2d1",
   "metadata": {},
   "outputs": [],
   "source": [
    "# Modifier la valeur pour la ville 'Afa' à la date '2023-10-01'\n",
    "# df.loc[(df['ville'] == 'Bonifacio') & (df['Date'] == '2025-06-02'), 'Feux'] = 1"
   ]
  },
  {
   "cell_type": "markdown",
   "id": "fb8cfeb2",
   "metadata": {},
   "source": [
    "### Traitement des doublons"
   ]
  },
  {
   "cell_type": "code",
   "execution_count": 18,
   "id": "00a9cfb2",
   "metadata": {},
   "outputs": [],
   "source": [
    "# df['Code Postal'] = df['Code Postal'].astype(str)\n",
    "df_clean = df.groupby(['ville', 'Date'], as_index=False).agg(lambda x: x.dropna().iloc[0] if not x.dropna().empty else None)\n",
    "\n"
   ]
  },
  {
   "cell_type": "code",
   "execution_count": 24,
   "id": "d420af34",
   "metadata": {},
   "outputs": [],
   "source": [
    "df_clean['Feux'] = df_clean['Feux'].fillna(0)"
   ]
  },
  {
   "cell_type": "code",
   "execution_count": 25,
   "id": "dff4619f",
   "metadata": {},
   "outputs": [
    {
     "data": {
      "text/plain": [
       "Feux\n",
       "0.0    248927\n",
       "1.0      8906\n",
       "Name: count, dtype: int64"
      ]
     },
     "execution_count": 25,
     "metadata": {},
     "output_type": "execute_result"
    }
   ],
   "source": [
    "df_clean['Feux'].value_counts()"
   ]
  },
  {
   "cell_type": "code",
   "execution_count": 26,
   "id": "39d9c04b",
   "metadata": {},
   "outputs": [],
   "source": [
    "df = df_clean"
   ]
  },
  {
   "cell_type": "markdown",
   "id": "61de4bbc",
   "metadata": {},
   "source": []
  },
  {
   "cell_type": "code",
   "execution_count": 27,
   "id": "107e044a",
   "metadata": {},
   "outputs": [],
   "source": [
    "df.to_csv(\"output/corse_Dataset_modele.csv\", index=False, sep=';')\n",
    "\n"
   ]
  },
  {
   "cell_type": "code",
   "execution_count": 28,
   "id": "9fe2c8f1",
   "metadata": {},
   "outputs": [],
   "source": [
    "# print(\"Bucket utilisé :\", bucket)\n",
    "# s3 = boto3.client(\n",
    "#     \"s3\",\n",
    "#     aws_access_key_id=aws_access_key_id,\n",
    "#     aws_secret_access_key=aws_secret_access_key,\n",
    "#     region_name=region\n",
    "# )\n",
    "# s3.upload_file(\"Dataset_modele.csv\", bucket, \"Dataset_modele.csv\")"
   ]
  }
 ],
 "metadata": {
  "kernelspec": {
   "display_name": ".venv",
   "language": "python",
   "name": "python3"
  },
  "language_info": {
   "codemirror_mode": {
    "name": "ipython",
    "version": 3
   },
   "file_extension": ".py",
   "mimetype": "text/x-python",
   "name": "python",
   "nbconvert_exporter": "python",
   "pygments_lexer": "ipython3",
   "version": "3.12.9"
  }
 },
 "nbformat": 4,
 "nbformat_minor": 5
}
