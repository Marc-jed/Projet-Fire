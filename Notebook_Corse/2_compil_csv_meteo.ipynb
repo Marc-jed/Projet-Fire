{
 "cells": [
  {
   "cell_type": "code",
   "execution_count": 1,
   "id": "5de89c8e",
   "metadata": {},
   "outputs": [],
   "source": [
    "import pandas as pd\n",
    "import glob"
   ]
  },
  {
   "cell_type": "code",
   "execution_count": 2,
   "id": "293e7afa",
   "metadata": {},
   "outputs": [
    {
     "name": "stdout",
     "output_type": "stream",
     "text": [
      "✅ Données combinées sauvegardées dans '13_output.csv'\n"
     ]
    }
   ],
   "source": [
    "import pandas as pd\n",
    "import glob\n",
    "\n",
    "# Chemin vers les fichiers CSV\n",
    "path = '13'  # Remplacez par le chemin réel\n",
    "all_files = glob.glob(path + \"/*.csv\")\n",
    "\n",
    "# Liste pour stocker les DataFrames\n",
    "list_of_dfs = []\n",
    "\n",
    "# Lire chaque fichier CSV et ajouter son contenu à la liste\n",
    "for file in all_files:\n",
    "    try:\n",
    "        # Essaye d'abord avec le séparateur ;\n",
    "        df = pd.read_csv(file, sep=';', on_bad_lines='skip', engine='python')\n",
    "\n",
    "        # Si le DataFrame n'a qu'une seule colonne, essaie avec ,\n",
    "        if df.shape[1] == 1:\n",
    "            df = pd.read_csv(file, sep=',', on_bad_lines='skip', engine='python')\n",
    "\n",
    "        # Si toujours 1 seule colonne, essaie avec tabulation\n",
    "        if df.shape[1] == 1:\n",
    "            df = pd.read_csv(file, sep='\\t', on_bad_lines='skip', engine='python')\n",
    "\n",
    "        list_of_dfs.append(df)\n",
    "\n",
    "    except Exception as e:\n",
    "        print(f\"⚠️ Erreur lors de la lecture du fichier : {file}\")\n",
    "        print(\"➡️ Erreur :\", e)\n",
    "\n",
    "# Concaténer tous les DataFrames en un seul\n",
    "if list_of_dfs:\n",
    "    corse_df = pd.concat(list_of_dfs, ignore_index=True)\n",
    "    # Écrire le DataFrame combiné dans un nouveau fichier CSV\n",
    "    corse_df.to_csv(f\"output/{path}_output.csv\", index=False)\n",
    "    print(f\"✅ Données combinées sauvegardées dans '{path}_output.csv'\")\n",
    "else:\n",
    "    print(\"❌ Aucun fichier valide n'a pu être lu.\")\n"
   ]
  },
  {
   "cell_type": "code",
   "execution_count": 3,
   "id": "5a92b056",
   "metadata": {},
   "outputs": [],
   "source": [
    "\n",
    "\n",
    "# # Chemin vers les fichiers CSV\n",
    "# path = 'test'  # Remplacez par le chemin réel\n",
    "# all_files = glob.glob(path + \"/*.csv\")\n",
    "\n",
    "# # Liste pour stocker les DataFrames\n",
    "# list_of_dfs = []\n",
    "\n",
    "# # Lire chaque fichier CSV et ajouter son contenu à la liste\n",
    "# for file in all_files:\n",
    "#     df = pd.read_csv(file)\n",
    "#     list_of_dfs.append(df)\n",
    "\n",
    "# # Concaténer tous les DataFrames en un seul\n",
    "# corse_df = pd.concat(list_of_dfs, ignore_index=True)\n",
    "\n",
    "# # Écrire le DataFrame combiné dans un nouveau fichier CSV\n",
    "# corse_df.to_csv(\"test_output.csv\", index=False)"
   ]
  }
 ],
 "metadata": {
  "kernelspec": {
   "display_name": ".venv",
   "language": "python",
   "name": "python3"
  },
  "language_info": {
   "codemirror_mode": {
    "name": "ipython",
    "version": 3
   },
   "file_extension": ".py",
   "mimetype": "text/x-python",
   "name": "python",
   "nbconvert_exporter": "python",
   "pygments_lexer": "ipython3",
   "version": "3.12.9"
  }
 },
 "nbformat": 4,
 "nbformat_minor": 5
}
